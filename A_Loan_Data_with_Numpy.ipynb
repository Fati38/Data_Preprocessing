{
 "cells": [
  {
   "cell_type": "markdown",
   "id": "aff35c99",
   "metadata": {},
   "source": [
    "# A Loan Data with Numpy"
   ]
  },
  {
   "cell_type": "markdown",
   "id": "a4eec11e",
   "metadata": {},
   "source": [
    "# Importing the packages"
   ]
  },
  {
   "cell_type": "code",
   "execution_count": 834,
   "id": "2a085174",
   "metadata": {},
   "outputs": [],
   "source": [
    "import pandas as pd\n",
    "import numpy as np"
   ]
  },
  {
   "cell_type": "code",
   "execution_count": 835,
   "id": "3878bcd5",
   "metadata": {},
   "outputs": [],
   "source": [
    "#improve the printing options,improve array’s readability\n",
    "np.set_printoptions(suppress = True, linewidth =100, precision = 2) #suppress = True, prevents python from using scientific options for numbers"
   ]
  },
  {
   "cell_type": "code",
   "execution_count": 836,
   "id": "bf826a09",
   "metadata": {},
   "outputs": [
    {
     "data": {
      "text/plain": [
       "array([[48010226.  ,         nan,    35000.  , ...,         nan,         nan,     9452.96],\n",
       "       [57693261.  ,         nan,    30000.  , ...,         nan,         nan,     4679.7 ],\n",
       "       [59432726.  ,         nan,    15000.  , ...,         nan,         nan,     1969.83],\n",
       "       ...,\n",
       "       [50415990.  ,         nan,    10000.  , ...,         nan,         nan,     2185.64],\n",
       "       [46154151.  ,         nan,         nan, ...,         nan,         nan,     3199.4 ],\n",
       "       [66055249.  ,         nan,    10000.  , ...,         nan,         nan,      301.9 ]])"
      ]
     },
     "execution_count": 836,
     "metadata": {},
     "output_type": "execute_result"
    }
   ],
   "source": [
    "#importing the dataset\n",
    "raw_data = np.genfromtxt('loan-data.csv', \n",
    "                         delimiter = ';',\n",
    "                         skip_header = 1,\n",
    "                         autostrip =True)\n",
    "raw_data"
   ]
  },
  {
   "cell_type": "code",
   "execution_count": 837,
   "id": "3aaa71e9",
   "metadata": {},
   "outputs": [
    {
     "data": {
      "text/plain": [
       "88005"
      ]
     },
     "execution_count": 837,
     "metadata": {},
     "output_type": "execute_result"
    }
   ],
   "source": [
    "np.isnan(raw_data).sum()"
   ]
  },
  {
   "cell_type": "markdown",
   "id": "8f30887a",
   "metadata": {},
   "source": [
    "The nanmean() and nanmax() functions in NumPy are used to compute the mean and the maximum of an array while ignoring any NaN "
   ]
  },
  {
   "cell_type": "code",
   "execution_count": 838,
   "id": "21b5b98d",
   "metadata": {},
   "outputs": [
    {
     "name": "stderr",
     "output_type": "stream",
     "text": [
      "C:\\Users\\User\\AppData\\Local\\Temp\\ipykernel_13396\\2730524203.py:4: RuntimeWarning: Mean of empty slice\n",
      "  temporary_mean = np.nanmean(raw_data, axis = 0)\n"
     ]
    }
   ],
   "source": [
    "#create a filler for all the missing entries in the dataset\n",
    "temporary_fill = np.nanmax(raw_data) + 1\n",
    "#create a variable wich will hold the mean for every columns\n",
    "temporary_mean = np.nanmean(raw_data, axis = 0)"
   ]
  },
  {
   "cell_type": "code",
   "execution_count": 839,
   "id": "b8daad36",
   "metadata": {},
   "outputs": [
    {
     "name": "stderr",
     "output_type": "stream",
     "text": [
      "C:\\Users\\User\\AppData\\Local\\Temp\\ipykernel_13396\\2832593045.py:1: RuntimeWarning: All-NaN slice encountered\n",
      "  temporary_stats = np.array([np.nanmin(raw_data, axis = 0),\n",
      "C:\\Users\\User\\AppData\\Local\\Temp\\ipykernel_13396\\2832593045.py:3: RuntimeWarning: All-NaN slice encountered\n",
      "  np.nanmax(raw_data, axis = 0)])\n"
     ]
    }
   ],
   "source": [
    "temporary_stats = np.array([np.nanmin(raw_data, axis = 0), \n",
    "                           temporary_mean,\n",
    "                           np.nanmax(raw_data, axis = 0)])"
   ]
  },
  {
   "cell_type": "code",
   "execution_count": 840,
   "id": "1c877806",
   "metadata": {},
   "outputs": [
    {
     "data": {
      "text/plain": [
       "array([[  373332.  ,         nan,     1000.  ,         nan,     1000.  ,         nan,        6.  ,\n",
       "              31.42,         nan,         nan,         nan,         nan,         nan,        0.  ],\n",
       "       [54015809.19,         nan,    15273.46,         nan,    15311.04,         nan,       16.62,\n",
       "             440.92,         nan,         nan,         nan,         nan,         nan,     3143.85],\n",
       "       [68616519.  ,         nan,    35000.  ,         nan,    35000.  ,         nan,       28.99,\n",
       "            1372.97,         nan,         nan,         nan,         nan,         nan,    41913.62]])"
      ]
     },
     "execution_count": 840,
     "metadata": {},
     "output_type": "execute_result"
    }
   ],
   "source": [
    "temporary_stats"
   ]
  },
  {
   "cell_type": "markdown",
   "id": "563a2fc8",
   "metadata": {},
   "source": [
    "# Split the columns into strings and numeric "
   ]
  },
  {
   "cell_type": "code",
   "execution_count": 841,
   "id": "7f46584c",
   "metadata": {},
   "outputs": [
    {
     "data": {
      "text/plain": [
       "(array([ 0,  2,  4,  6,  7, 13], dtype=int64),\n",
       " array([ 1,  3,  5,  8,  9, 10, 11, 12], dtype=int64))"
      ]
     },
     "execution_count": 841,
     "metadata": {},
     "output_type": "execute_result"
    }
   ],
   "source": [
    "#Split the columns into strings and numeric and return the indices\n",
    "columns_strings = np.argwhere(np.isnan(temporary_mean)).squeeze()\n",
    "columns_numeric = np.argwhere(np.isnan(temporary_mean)==False).squeeze()\n",
    "columns_numeric,columns_strings\n"
   ]
  },
  {
   "cell_type": "markdown",
   "id": "7005f6de",
   "metadata": {},
   "source": [
    "# Re-importing the data \n"
   ]
  },
  {
   "cell_type": "code",
   "execution_count": 842,
   "id": "c5203dbf",
   "metadata": {},
   "outputs": [
    {
     "data": {
      "text/plain": [
       "0"
      ]
     },
     "execution_count": 842,
     "metadata": {},
     "output_type": "execute_result"
    }
   ],
   "source": [
    "loan_data_strings = np.genfromtxt('loan-data.csv', \n",
    "                         delimiter = ';',\n",
    "                         skip_header = 1,\n",
    "                         autostrip =True,\n",
    "                         usecols = columns_strings,\n",
    "                         dtype = str )\n",
    "\n",
    "\n",
    "loan_data_numeric = np.genfromtxt('loan-data.csv', \n",
    "                         delimiter = ';',\n",
    "                         skip_header = 1,\n",
    "                         autostrip =True,\n",
    "                         usecols = columns_numeric,\n",
    "                         filling_values = temporary_fill )\n",
    "\n",
    "#check any missing values\n",
    "np.isnan(loan_data_numeric).sum()\n",
    "\n"
   ]
  },
  {
   "cell_type": "code",
   "execution_count": 774,
   "id": "fab2c94f",
   "metadata": {},
   "outputs": [
    {
     "data": {
      "text/plain": [
       "array(['id', 'issue_d', 'loan_amnt', 'loan_status', 'funded_amnt', 'term', 'int_rate',\n",
       "       'installment', 'grade', 'sub_grade', 'verification_status', 'url', 'addr_state',\n",
       "       'total_pymnt'], dtype='<U19')"
      ]
     },
     "execution_count": 774,
     "metadata": {},
     "output_type": "execute_result"
    }
   ],
   "source": [
    "#import the header\n",
    "header_full = np.genfromtxt('loan-data.csv', \n",
    "                         delimiter = ';',\n",
    "                         skip_footer = raw_data.shape[0],\n",
    "                         autostrip =True,\n",
    "                         dtype = str )\n",
    "\n",
    "header_full"
   ]
  },
  {
   "cell_type": "code",
   "execution_count": 843,
   "id": "75016d6f",
   "metadata": {},
   "outputs": [
    {
     "data": {
      "text/plain": [
       "(array(['issue_d', 'loan_status', 'term', 'grade', 'sub_grade', 'verification_status', 'url',\n",
       "        'addr_state'], dtype='<U19'),\n",
       " array(['id', 'loan_amnt', 'funded_amnt', 'int_rate', 'installment', 'total_pymnt'], dtype='<U19'))"
      ]
     },
     "execution_count": 843,
     "metadata": {},
     "output_type": "execute_result"
    }
   ],
   "source": [
    "#separate header_strings and header-numeric\n",
    "header_strings, header_numeric = header_full[columns_strings], header_full[columns_numeric]\n",
    "\n",
    "header_strings, header_numeric"
   ]
  },
  {
   "cell_type": "markdown",
   "id": "789df635",
   "metadata": {},
   "source": [
    "# Creating Checkpoints"
   ]
  },
  {
   "cell_type": "code",
   "execution_count": 844,
   "id": "118750a5",
   "metadata": {},
   "outputs": [],
   "source": [
    "#we create checkpoints where we could store our dataset progress without to avoid the risque of loosing it\n",
    "def checkpoint(file_name, checkpoint_head, checkpoint_data):\n",
    "    np.savez(file_name, header = checkpoint_head , data = checkpoint_data)\n",
    "    checkpoint_variable = np.load(file_name + \".npz\")\n",
    "    return (checkpoint_variable)"
   ]
  },
  {
   "cell_type": "code",
   "execution_count": 845,
   "id": "8b374c3f",
   "metadata": {},
   "outputs": [
    {
     "data": {
      "text/plain": [
       "array(['issue_d', 'loan_status', 'term', 'grade', 'sub_grade', 'verification_status', 'url',\n",
       "       'addr_state'], dtype='<U19')"
      ]
     },
     "execution_count": 845,
     "metadata": {},
     "output_type": "execute_result"
    }
   ],
   "source": [
    "checkpoint_test = checkpoint(\"checkpoint_test1\", header_strings, loan_data_strings )\n",
    "\n",
    "#lets check our checkpoints\n",
    "checkpoint_test['header'] == header_strings\n",
    "np.array_equal(checkpoint_test['data'], loan_data_strings )\n",
    "header_strings"
   ]
  },
  {
   "cell_type": "code",
   "execution_count": 778,
   "id": "e2b96e41",
   "metadata": {},
   "outputs": [],
   "source": [
    "# Revert to the checkpoint\n",
    "checkpoint_data = np.load('checkpoint_test1.npz')\n",
    "header = checkpoint_data['header']\n",
    "data = checkpoint_data['data']"
   ]
  },
  {
   "cell_type": "markdown",
   "id": "d4200790",
   "metadata": {},
   "source": [
    "# Manipulating String Data"
   ]
  },
  {
   "cell_type": "code",
   "execution_count": 846,
   "id": "6181919f",
   "metadata": {},
   "outputs": [
    {
     "data": {
      "text/plain": [
       "array(['issue_date', 'loan_status', 'term', 'grade', 'sub_grade', 'verification_status', 'url',\n",
       "       'addr_state'], dtype='<U19')"
      ]
     },
     "execution_count": 846,
     "metadata": {},
     "output_type": "execute_result"
    }
   ],
   "source": [
    "#Lets change the first column name to a more meanfull name \n",
    "header_strings[0] = \"issue_date\"\n",
    "header_strings"
   ]
  },
  {
   "cell_type": "code",
   "execution_count": null,
   "id": "e6031c3a",
   "metadata": {},
   "outputs": [],
   "source": []
  },
  {
   "cell_type": "markdown",
   "id": "e9120848",
   "metadata": {},
   "source": [
    "# Transform Issue Date to numbers"
   ]
  },
  {
   "cell_type": "code",
   "execution_count": 847,
   "id": "2df5f087",
   "metadata": {},
   "outputs": [
    {
     "data": {
      "text/plain": [
       "array(['', 'Apr-15', 'Aug-15', 'Dec-15', 'Feb-15', 'Jan-15', 'Jul-15', 'Jun-15', 'Mar-15',\n",
       "       'May-15', 'Nov-15', 'Oct-15', 'Sep-15'], dtype='<U69')"
      ]
     },
     "execution_count": 847,
     "metadata": {},
     "output_type": "execute_result"
    }
   ],
   "source": [
    "#It's always better to have a date column as integer rather than strings \n",
    "np.unique(loan_data_strings[:,0])\n"
   ]
  },
  {
   "cell_type": "code",
   "execution_count": 848,
   "id": "795e616e",
   "metadata": {},
   "outputs": [
    {
     "data": {
      "text/plain": [
       "array(['May', '', 'Sep', ..., 'Jun', 'Apr', 'Dec'], dtype='<U69')"
      ]
     },
     "execution_count": 848,
     "metadata": {},
     "output_type": "execute_result"
    }
   ],
   "source": [
    "# I will strip the excess data -15 because its not relevant as all columns are year 15\n",
    "loan_data_strings[:,0] = np.char.strip(loan_data_strings[:,0],'-15')\n",
    "loan_data_strings[:,0]"
   ]
  },
  {
   "cell_type": "code",
   "execution_count": 849,
   "id": "1d770118",
   "metadata": {},
   "outputs": [
    {
     "data": {
      "text/plain": [
       "array(['', 'Jan', 'Feb', 'Mar', 'Apr', 'May', 'Jun', 'Jul', 'Aug', 'Sep', 'Oct', 'Nov', 'Dec'],\n",
       "      dtype='<U3')"
      ]
     },
     "execution_count": 849,
     "metadata": {},
     "output_type": "execute_result"
    }
   ],
   "source": [
    "#Represent month values as integers as strings take more memory space\n",
    "months = np.array(['', 'Jan', 'Feb', 'Mar', 'Apr', 'May', 'Jun', 'Jul', 'Aug', 'Sep', 'Oct', 'Nov', 'Dec'])\n",
    "months"
   ]
  },
  {
   "cell_type": "code",
   "execution_count": 850,
   "id": "ec4ac274",
   "metadata": {},
   "outputs": [
    {
     "data": {
      "text/plain": [
       "array(['0', '1', '10', '11', '12', '2', '3', '4', '5', '6', '7', '8', '9'], dtype='<U69')"
      ]
     },
     "execution_count": 850,
     "metadata": {},
     "output_type": "execute_result"
    }
   ],
   "source": [
    "#Lets convert the entire issue date column to numbers\n",
    "\n",
    "for i in range(13): \n",
    "    loan_data_strings[:,0] = np.where(loan_data_strings[:,0] == months[i], \n",
    "                                      i ,\n",
    "                                      loan_data_strings[:,0])\n",
    "np.unique(loan_data_strings[:,0])   "
   ]
  },
  {
   "cell_type": "code",
   "execution_count": 851,
   "id": "2a72507a",
   "metadata": {},
   "outputs": [
    {
     "data": {
      "text/plain": [
       "array(['issue_date', 'loan_status', 'term', 'grade', 'sub_grade', 'verification_status', 'url',\n",
       "       'addr_state'], dtype='<U19')"
      ]
     },
     "execution_count": 851,
     "metadata": {},
     "output_type": "execute_result"
    }
   ],
   "source": [
    "checkpoint_test = checkpoint(\"checkpoint_test2\", header_strings, loan_data_strings )\n",
    "\n",
    "#lets check our checkpoints\n",
    "checkpoint_test['header'] == header_strings\n",
    "np.array_equal(checkpoint_test['data'], loan_data_strings )\n",
    "header_strings"
   ]
  },
  {
   "cell_type": "markdown",
   "id": "97af34e0",
   "metadata": {},
   "source": [
    "# Transform Loan status into dummy variable"
   ]
  },
  {
   "cell_type": "code",
   "execution_count": 852,
   "id": "6e9ea5dc",
   "metadata": {},
   "outputs": [
    {
     "data": {
      "text/plain": [
       "'loan_status'"
      ]
     },
     "execution_count": 852,
     "metadata": {},
     "output_type": "execute_result"
    }
   ],
   "source": [
    "#start with the loan status header than the data\n",
    "header_strings[1]\n"
   ]
  },
  {
   "cell_type": "code",
   "execution_count": 853,
   "id": "30d7cb08",
   "metadata": {},
   "outputs": [
    {
     "data": {
      "text/plain": [
       "array(['', 'Charged Off', 'Current', 'Default', 'Fully Paid', 'In Grace Period', 'Issued',\n",
       "       'Late (16-30 days)', 'Late (31-120 days)'], dtype='<U69')"
      ]
     },
     "execution_count": 853,
     "metadata": {},
     "output_type": "execute_result"
    }
   ],
   "source": [
    "#Examin the data in loan status\n",
    "np.unique(loan_data_strings[:,1])"
   ]
  },
  {
   "cell_type": "code",
   "execution_count": 787,
   "id": "100d41c8",
   "metadata": {},
   "outputs": [
    {
     "data": {
      "text/plain": [
       "9"
      ]
     },
     "execution_count": 787,
     "metadata": {},
     "output_type": "execute_result"
    }
   ],
   "source": [
    "np.unique(loan_data_strings[:,1]).size"
   ]
  },
  {
   "cell_type": "code",
   "execution_count": null,
   "id": "10e7e125",
   "metadata": {},
   "outputs": [],
   "source": []
  },
  {
   "cell_type": "code",
   "execution_count": 236,
   "id": "0ca4bb89",
   "metadata": {},
   "outputs": [
    {
     "data": {
      "text/plain": [
       "array(['1', '1', '1', ..., '1', '1', '1'], dtype='<U69')"
      ]
     },
     "execution_count": 236,
     "metadata": {},
     "output_type": "execute_result"
    }
   ],
   "source": []
  },
  {
   "cell_type": "code",
   "execution_count": 854,
   "id": "a400cf90",
   "metadata": {},
   "outputs": [],
   "source": [
    "#we notice that we can categorize the loan status column into two categories '0' for 'bad' accounts and '1' to indicate 'good' account\n",
    "\n",
    "bad_status = np.array(['', 'Charged Off', 'Default', 'Late (31-120 days)'])\n",
    "good_status = np.array(['Current','Issued', 'Fully Paid', 'In Grace Period', 'Late (16-30 days)'])\n",
    "\n",
    "'''for i in range(loan_data_strings[:,1].size):\n",
    "    for j in range(4):\n",
    "      if loan_data_strings[:,1][i] == bad_status[j]:\n",
    "         loan_data_strings[:,1][i] = 0\n",
    "      else:\n",
    "         continue\n",
    "            \n",
    "for i in range(loan_data_strings[:,1].size):\n",
    "    for j in range(5):\n",
    "      if loan_data_strings[:,1][i] == good_status[j]:\n",
    "         loan_data_strings[:,1][i] = 1\n",
    "      else:\n",
    "         continue\n",
    "'''\n",
    "#we could have used the where() method to do all the above work in one single line\n",
    "#numpy.where(condition, x, y) x if condition satisfied, y if not\n",
    "loan_data_strings[:,1] = np.where(np.isin(loan_data_strings[:,1], bad_status), 0, 1)\n"
   ]
  },
  {
   "cell_type": "code",
   "execution_count": 855,
   "id": "a9c55407",
   "metadata": {},
   "outputs": [
    {
     "data": {
      "text/plain": [
       "array(['0', '1'], dtype='<U69')"
      ]
     },
     "execution_count": 855,
     "metadata": {},
     "output_type": "execute_result"
    }
   ],
   "source": [
    "np.unique(loan_data_strings[:,1])\n"
   ]
  },
  {
   "cell_type": "code",
   "execution_count": 856,
   "id": "3c85f41e",
   "metadata": {},
   "outputs": [
    {
     "data": {
      "text/plain": [
       "array(['issue_date', 'loan_status', 'term', 'grade', 'sub_grade', 'verification_status', 'url',\n",
       "       'addr_state'], dtype='<U19')"
      ]
     },
     "execution_count": 856,
     "metadata": {},
     "output_type": "execute_result"
    }
   ],
   "source": [
    "checkpoint_test = checkpoint(\"checkpoint_test3\", header_strings, loan_data_strings )\n",
    "\n",
    "#lets check our checkpoints\n",
    "checkpoint_test['header'] == header_strings\n",
    "np.array_equal(checkpoint_test['data'], loan_data_strings )\n",
    "header_strings"
   ]
  },
  {
   "cell_type": "markdown",
   "id": "bc1f18a2",
   "metadata": {},
   "source": [
    "# Transform Term into dummy variable"
   ]
  },
  {
   "cell_type": "code",
   "execution_count": 793,
   "id": "2ef12362",
   "metadata": {},
   "outputs": [
    {
     "data": {
      "text/plain": [
       "array(['issue_date', 'loan_status', 'term', 'grade', 'sub_grade', 'verification_status', 'url',\n",
       "       'addr_state'], dtype='<U19')"
      ]
     },
     "execution_count": 793,
     "metadata": {},
     "output_type": "execute_result"
    }
   ],
   "source": [
    "#Lets examin Term column data and header\n",
    "header_strings\n"
   ]
  },
  {
   "cell_type": "code",
   "execution_count": 857,
   "id": "15ac8e06",
   "metadata": {},
   "outputs": [
    {
     "data": {
      "text/plain": [
       "array(['36 months', '36 months', '36 months', ..., '36 months', '36 months', '36 months'],\n",
       "      dtype='<U69')"
      ]
     },
     "execution_count": 857,
     "metadata": {},
     "output_type": "execute_result"
    }
   ],
   "source": [
    "loan_data_strings[:,2]"
   ]
  },
  {
   "cell_type": "code",
   "execution_count": 858,
   "id": "da7ceff3",
   "metadata": {},
   "outputs": [
    {
     "data": {
      "text/plain": [
       "array(['', '36 months', '60 months'], dtype='<U69')"
      ]
     },
     "execution_count": 858,
     "metadata": {},
     "output_type": "execute_result"
    }
   ],
   "source": [
    "np.unique(loan_data_strings[:,2])"
   ]
  },
  {
   "cell_type": "code",
   "execution_count": 859,
   "id": "c7b5e39d",
   "metadata": {},
   "outputs": [
    {
     "data": {
      "text/plain": [
       "array(['36', '36', '36', ..., '36', '36', '36'], dtype='<U69')"
      ]
     },
     "execution_count": 859,
     "metadata": {},
     "output_type": "execute_result"
    }
   ],
   "source": [
    "#I suggest striping 'months' string \n",
    "loan_data_strings[:,2] = np.char.strip(loan_data_strings[:,2],' months')\n",
    "loan_data_strings[:,2]"
   ]
  },
  {
   "cell_type": "code",
   "execution_count": 860,
   "id": "b0057562",
   "metadata": {},
   "outputs": [
    {
     "data": {
      "text/plain": [
       "array(['', '36', '60'], dtype='<U69')"
      ]
     },
     "execution_count": 860,
     "metadata": {},
     "output_type": "execute_result"
    }
   ],
   "source": [
    "np.unique(loan_data_strings[:,2])"
   ]
  },
  {
   "cell_type": "code",
   "execution_count": 861,
   "id": "224acb79",
   "metadata": {},
   "outputs": [
    {
     "data": {
      "text/plain": [
       "'term_months'"
      ]
     },
     "execution_count": 861,
     "metadata": {},
     "output_type": "execute_result"
    }
   ],
   "source": [
    "#lets now change column name to a more descriptive one\n",
    "header_strings[2] = 'term_months'\n",
    "header_strings[2] "
   ]
  },
  {
   "cell_type": "code",
   "execution_count": 862,
   "id": "87809209",
   "metadata": {},
   "outputs": [
    {
     "data": {
      "text/plain": [
       "array(['36', '60'], dtype='<U69')"
      ]
     },
     "execution_count": 862,
     "metadata": {},
     "output_type": "execute_result"
    }
   ],
   "source": [
    "#now we need to fill in the missiing values in '' we will replace it with '60'\n",
    "#we choose '60' because in CRM if a value is missing we assume the WORST senario\n",
    "\n",
    "#numpy.where(condition, x, y) x if condition satisfied, y if not\n",
    "loan_data_strings[:,2] = np.where(loan_data_strings[:,2] == '', \n",
    "                                  '60',\n",
    "                                  loan_data_strings[:,2])\n",
    "np.unique(loan_data_strings[:,2])\n"
   ]
  },
  {
   "cell_type": "code",
   "execution_count": 863,
   "id": "7baf343c",
   "metadata": {},
   "outputs": [
    {
     "data": {
      "text/plain": [
       "True"
      ]
     },
     "execution_count": 863,
     "metadata": {},
     "output_type": "execute_result"
    }
   ],
   "source": [
    "checkpoint_test = checkpoint(\"checkpoint_test4\", header_strings, loan_data_strings )\n",
    "\n",
    "#lets check our checkpoints\n",
    "checkpoint_test['header'] == header_strings\n",
    "np.array_equal(checkpoint_test['data'], loan_data_strings )"
   ]
  },
  {
   "cell_type": "code",
   "execution_count": 864,
   "id": "b830178b",
   "metadata": {},
   "outputs": [
    {
     "data": {
      "text/plain": [
       "array(['issue_date', 'loan_status', 'term_months', 'grade', 'sub_grade', 'verification_status',\n",
       "       'url', 'addr_state'], dtype='<U19')"
      ]
     },
     "execution_count": 864,
     "metadata": {},
     "output_type": "execute_result"
    }
   ],
   "source": [
    "checkpoint_test = checkpoint(\"checkpoint_test5\", header_strings, loan_data_strings )\n",
    "\n",
    "#lets check our checkpoints\n",
    "checkpoint_test['header'] == header_strings\n",
    "np.array_equal(checkpoint_test['data'], loan_data_strings )\n",
    "header_strings"
   ]
  },
  {
   "cell_type": "markdown",
   "id": "48548b58",
   "metadata": {},
   "source": [
    "# Examin Grade and Sub Grade variable"
   ]
  },
  {
   "cell_type": "code",
   "execution_count": 865,
   "id": "08f52b8e",
   "metadata": {},
   "outputs": [
    {
     "data": {
      "text/plain": [
       "'grade'"
      ]
     },
     "execution_count": 865,
     "metadata": {},
     "output_type": "execute_result"
    }
   ],
   "source": [
    "header_strings[3] "
   ]
  },
  {
   "cell_type": "code",
   "execution_count": 866,
   "id": "29110fa8",
   "metadata": {},
   "outputs": [
    {
     "data": {
      "text/plain": [
       "array(['C', 'A', 'B', ..., 'A', 'D', 'A'], dtype='<U69')"
      ]
     },
     "execution_count": 866,
     "metadata": {},
     "output_type": "execute_result"
    }
   ],
   "source": [
    "loan_data_strings[:,3]"
   ]
  },
  {
   "cell_type": "code",
   "execution_count": 869,
   "id": "02f03334",
   "metadata": {},
   "outputs": [
    {
     "data": {
      "text/plain": [
       "array(['', 'A', 'B', 'C', 'D', 'E', 'F', 'G'], dtype='<U69')"
      ]
     },
     "execution_count": 869,
     "metadata": {},
     "output_type": "execute_result"
    }
   ],
   "source": [
    "np.unique(loan_data_strings[:,3])"
   ]
  },
  {
   "cell_type": "code",
   "execution_count": 868,
   "id": "04f3d35d",
   "metadata": {},
   "outputs": [
    {
     "data": {
      "text/plain": [
       "array(['', 'A1', 'A2', 'A3', 'A4', 'A5', 'B1', 'B2', 'B3', 'B4', 'B5', 'C1', 'C2', 'C3', 'C4',\n",
       "       'C5', 'D1', 'D2', 'D3', 'D4', 'D5', 'E1', 'E2', 'E3', 'E4', 'E5', 'F1', 'F2', 'F3', 'F4',\n",
       "       'F5', 'G1', 'G2', 'G3', 'G4', 'G5'], dtype='<U69')"
      ]
     },
     "execution_count": 868,
     "metadata": {},
     "output_type": "execute_result"
    }
   ],
   "source": [
    "#lets examin sub grade before we decide what to do\n",
    "np.unique(loan_data_strings[:,4])"
   ]
  },
  {
   "cell_type": "code",
   "execution_count": 806,
   "id": "1aa09e82",
   "metadata": {},
   "outputs": [
    {
     "data": {
      "text/plain": [
       "(array(['', 'A1', 'A2', 'A3', 'A4', 'A5', 'B1', 'B2', 'B3', 'B4', 'B5', 'C1', 'C2', 'C3', 'C4',\n",
       "        'C5', 'D1', 'D2', 'D3', 'D4', 'D5', 'E1', 'E2', 'E3', 'E4', 'E5', 'F1', 'F2', 'F3', 'F4',\n",
       "        'F5', 'G1', 'G2', 'G3', 'G4', 'G5'], dtype='<U69'),\n",
       " array([514, 285, 278, 239, 323, 502, 509, 517, 530, 553, 494, 629, 567, 586, 564, 423, 391, 267,\n",
       "        250, 255, 223, 235, 162, 171, 139, 114,  94,  52,  34,  43,  16,  19,  10,   3,   7,   2],\n",
       "       dtype=int64))"
      ]
     },
     "execution_count": 806,
     "metadata": {},
     "output_type": "execute_result"
    }
   ],
   "source": [
    "#looks like sub grade contains the information in grade plus more detail\n",
    "#here we face redandacy we should remove the column grade from our datset\n",
    "#before we delete grade we will use 'grade' to fill in some of the missing values in 'sub grade'\n",
    "\n",
    "#lets see how many '' we have\n",
    "np.unique(loan_data_strings[:,4], return_counts = True)\n",
    "# we have 514 columns with empty values that a lot to withdraw from the data.\n",
    "#lets try to fill in the subgrade using the grade column \n"
   ]
  },
  {
   "cell_type": "code",
   "execution_count": 871,
   "id": "3c5936eb",
   "metadata": {},
   "outputs": [
    {
     "data": {
      "text/plain": [
       "array(['', 'A1', 'A2', 'A3', 'A4', 'A5', 'B1', 'B2', 'B3', 'B4', 'B5', 'C1', 'C2', 'C3', 'C4',\n",
       "       'C5', 'D1', 'D2', 'D3', 'D4', 'D5', 'E1', 'E2', 'E3', 'E4', 'E5', 'F1', 'F2', 'F3', 'F4',\n",
       "       'F5', 'G1', 'G2', 'G3', 'G4', 'G5'], dtype='<U69')"
      ]
     },
     "execution_count": 871,
     "metadata": {},
     "output_type": "execute_result"
    }
   ],
   "source": [
    "for i in np.unique(loan_data_strings[:,3])[1:]:\n",
    "  loan_data_strings[:,4] = np.where((loan_data_strings[:,4] == '') & (loan_data_strings[:,3] == i), \n",
    "                                  i + '5', #we assume the worst\n",
    "                                  loan_data_strings[:,4])\n",
    "\n",
    "\n",
    "np.unique(loan_data_strings[:,4])"
   ]
  },
  {
   "cell_type": "code",
   "execution_count": 872,
   "id": "e6d1d9e6",
   "metadata": {},
   "outputs": [
    {
     "data": {
      "text/plain": [
       "(array(['', 'A1', 'A2', 'A3', 'A4', 'A5', 'B1', 'B2', 'B3', 'B4', 'B5', 'C1', 'C2', 'C3', 'C4',\n",
       "        'C5', 'D1', 'D2', 'D3', 'D4', 'D5', 'E1', 'E2', 'E3', 'E4', 'E5', 'F1', 'F2', 'F3', 'F4',\n",
       "        'F5', 'G1', 'G2', 'G3', 'G4', 'G5'], dtype='<U69'),\n",
       " array([  9, 285, 278, 239, 323, 592, 509, 517, 530, 553, 633, 629, 567, 586, 564, 577, 391, 267,\n",
       "        250, 255, 288, 235, 162, 171, 139, 160,  94,  52,  34,  43,  24,  19,  10,   3,   7,   5],\n",
       "       dtype=int64))"
      ]
     },
     "execution_count": 872,
     "metadata": {},
     "output_type": "execute_result"
    }
   ],
   "source": [
    "np.unique(loan_data_strings[:,4], return_counts = True)"
   ]
  },
  {
   "cell_type": "code",
   "execution_count": 873,
   "id": "ff23a0e1",
   "metadata": {},
   "outputs": [],
   "source": [
    "#we still have 9 empty columns, because there is empty subgrades without grades\n",
    "#as they all only 9 columns out of a total of 1000 columns we can delete them\n",
    "#but we will not, we opt of adding a new grade 'H1' worse than G5 and put all missing values\n",
    "for i in np.unique(loan_data_strings[:,3])[1:]:\n",
    "   loan_data_strings[:,4] = np.where(loan_data_strings[:,4] == '', \n",
    "                                  'H1', \n",
    "                                  loan_data_strings[:,4])\n"
   ]
  },
  {
   "cell_type": "code",
   "execution_count": 874,
   "id": "b79ff0d4",
   "metadata": {},
   "outputs": [
    {
     "data": {
      "text/plain": [
       "array(['A1', 'A2', 'A3', 'A4', 'A5', 'B1', 'B2', 'B3', 'B4', 'B5', 'C1', 'C2', 'C3', 'C4', 'C5',\n",
       "       'D1', 'D2', 'D3', 'D4', 'D5', 'E1', 'E2', 'E3', 'E4', 'E5', 'F1', 'F2', 'F3', 'F4', 'F5',\n",
       "       'G1', 'G2', 'G3', 'G4', 'G5', 'H1'], dtype='<U69')"
      ]
     },
     "execution_count": 874,
     "metadata": {},
     "output_type": "execute_result"
    }
   ],
   "source": [
    "np.unique(loan_data_strings[:,4])"
   ]
  },
  {
   "cell_type": "code",
   "execution_count": 875,
   "id": "2016a91b",
   "metadata": {},
   "outputs": [
    {
     "data": {
      "text/plain": [
       "array(['issue_date', 'loan_status', 'term_months', 'grade', 'sub_grade', 'verification_status',\n",
       "       'url', 'addr_state'], dtype='<U19')"
      ]
     },
     "execution_count": 875,
     "metadata": {},
     "output_type": "execute_result"
    }
   ],
   "source": [
    "checkpoint_test = checkpoint(\"checkpoint_test6\", header_strings, loan_data_strings )\n",
    "\n",
    "#lets check our checkpoints\n",
    "checkpoint_test['header'] == header_strings\n",
    "np.array_equal(checkpoint_test['data'], loan_data_strings )\n",
    "header_strings"
   ]
  },
  {
   "cell_type": "markdown",
   "id": "6215b7d5",
   "metadata": {},
   "source": [
    "# Removing Grade column"
   ]
  },
  {
   "cell_type": "code",
   "execution_count": 876,
   "id": "f1f26386",
   "metadata": {},
   "outputs": [],
   "source": [
    "#we dont need grade anymore as sub grade now contain all the information in grade \n",
    "#loan_data_strings = np.delete(loan_data_strings, 3, axis = 1)"
   ]
  },
  {
   "cell_type": "markdown",
   "id": "1c163506",
   "metadata": {},
   "source": [
    "I had to comment delete grade so I don't execute it again by mistake\n"
   ]
  },
  {
   "cell_type": "code",
   "execution_count": 877,
   "id": "37ba9776",
   "metadata": {},
   "outputs": [
    {
     "data": {
      "text/plain": [
       "array(['C3', 'A5', 'B5', ..., 'A5', 'D2', 'A4'], dtype='<U69')"
      ]
     },
     "execution_count": 877,
     "metadata": {},
     "output_type": "execute_result"
    }
   ],
   "source": [
    "loan_data_strings[:,3]"
   ]
  },
  {
   "cell_type": "code",
   "execution_count": 878,
   "id": "6d7cc17c",
   "metadata": {},
   "outputs": [],
   "source": [
    "#header_strings = np.delete(header_strings, 3) # will remove the 4th element\n"
   ]
  },
  {
   "cell_type": "code",
   "execution_count": 879,
   "id": "8816fbf8",
   "metadata": {},
   "outputs": [
    {
     "data": {
      "text/plain": [
       "array(['issue_date', 'loan_status', 'term_months', 'sub_grade', 'verification_status', 'url',\n",
       "       'addr_state'], dtype='<U19')"
      ]
     },
     "execution_count": 879,
     "metadata": {},
     "output_type": "execute_result"
    }
   ],
   "source": [
    "header_strings"
   ]
  },
  {
   "cell_type": "code",
   "execution_count": 880,
   "id": "73caa5a8",
   "metadata": {},
   "outputs": [
    {
     "data": {
      "text/plain": [
       "array(['issue_date', 'loan_status', 'term_months', 'sub_grade', 'verification_status', 'url',\n",
       "       'addr_state'], dtype='<U19')"
      ]
     },
     "execution_count": 880,
     "metadata": {},
     "output_type": "execute_result"
    }
   ],
   "source": [
    "checkpoint_test = checkpoint(\"checkpoint_test7\", header_strings, loan_data_strings )\n",
    "\n",
    "#lets check our checkpoints\n",
    "checkpoint_test['header'] == header_strings\n",
    "np.array_equal(checkpoint_test['data'], loan_data_strings )\n",
    "header_strings"
   ]
  },
  {
   "cell_type": "markdown",
   "id": "eb31284a",
   "metadata": {},
   "source": [
    "# Converting sub_grade"
   ]
  },
  {
   "cell_type": "code",
   "execution_count": 710,
   "id": "820cc8f9",
   "metadata": {},
   "outputs": [],
   "source": [
    "#Lests go back to our checkpoint checkpoint_test7\n",
    "#loan_data_strings = data\n",
    "#header_strings = header\n"
   ]
  },
  {
   "cell_type": "code",
   "execution_count": null,
   "id": "72c37c55",
   "metadata": {},
   "outputs": [],
   "source": []
  },
  {
   "cell_type": "code",
   "execution_count": 882,
   "id": "4946257a",
   "metadata": {},
   "outputs": [
    {
     "data": {
      "text/plain": [
       "array(['A1', 'A2', 'A3', 'A4', 'A5', 'B1', 'B2', 'B3', 'B4', 'B5', 'C1', 'C2', 'C3', 'C4', 'C5',\n",
       "       'D1', 'D2', 'D3', 'D4', 'D5', 'E1', 'E2', 'E3', 'E4', 'E5', 'F1', 'F2', 'F3', 'F4', 'F5',\n",
       "       'G1', 'G2', 'G3', 'G4', 'G5', 'H1'], dtype='<U69')"
      ]
     },
     "execution_count": 882,
     "metadata": {},
     "output_type": "execute_result"
    }
   ],
   "source": [
    "np.unique(loan_data_strings[:,3])"
   ]
  },
  {
   "cell_type": "code",
   "execution_count": 831,
   "id": "b63c0632",
   "metadata": {},
   "outputs": [
    {
     "data": {
      "text/plain": [
       "36"
      ]
     },
     "execution_count": 831,
     "metadata": {},
     "output_type": "execute_result"
    }
   ],
   "source": [
    "np.unique(loan_data_strings[:,3]).size"
   ]
  },
  {
   "cell_type": "code",
   "execution_count": 883,
   "id": "615b11f1",
   "metadata": {},
   "outputs": [
    {
     "data": {
      "text/plain": [
       "{'A1': 1,\n",
       " 'A2': 2,\n",
       " 'A3': 3,\n",
       " 'A4': 4,\n",
       " 'A5': 5,\n",
       " 'B1': 6,\n",
       " 'B2': 7,\n",
       " 'B3': 8,\n",
       " 'B4': 9,\n",
       " 'B5': 10,\n",
       " 'C1': 11,\n",
       " 'C2': 12,\n",
       " 'C3': 13,\n",
       " 'C4': 14,\n",
       " 'C5': 15,\n",
       " 'D1': 16,\n",
       " 'D2': 17,\n",
       " 'D3': 18,\n",
       " 'D4': 19,\n",
       " 'D5': 20,\n",
       " 'E1': 21,\n",
       " 'E2': 22,\n",
       " 'E3': 23,\n",
       " 'E4': 24,\n",
       " 'E5': 25,\n",
       " 'F1': 26,\n",
       " 'F2': 27,\n",
       " 'F3': 28,\n",
       " 'F4': 29,\n",
       " 'F5': 30,\n",
       " 'G1': 31,\n",
       " 'G2': 32,\n",
       " 'G3': 33,\n",
       " 'G4': 34,\n",
       " 'G5': 35,\n",
       " 'H1': 36}"
      ]
     },
     "execution_count": 883,
     "metadata": {},
     "output_type": "execute_result"
    }
   ],
   "source": [
    "#instead of using where() function 36 times to associate a unique value for each grade\n",
    "#we will create a dictionary with the keys are the grades and values the associated numbers\n",
    "\n",
    "key = list(np.unique(loan_data_strings[:,3]))\n",
    "#len(key) = 36\n",
    "values = list(range(1, len(key)+1))\n",
    "sub_grade_dict = dict(zip(key,values))\n",
    "sub_grade_dict "
   ]
  },
  {
   "cell_type": "code",
   "execution_count": null,
   "id": "4798997c",
   "metadata": {},
   "outputs": [],
   "source": [
    "\n",
    "    "
   ]
  },
  {
   "cell_type": "code",
   "execution_count": 884,
   "id": "c3fa2f07",
   "metadata": {},
   "outputs": [
    {
     "data": {
      "text/plain": [
       "array(['13', '5', '10', ..., '5', '17', '4'], dtype='<U69')"
      ]
     },
     "execution_count": 884,
     "metadata": {},
     "output_type": "execute_result"
    }
   ],
   "source": [
    "# Iterate over unique values in the 4th column\n",
    "for i in np.unique(loan_data_strings[:, 3]):\n",
    "    # Create a mask for the current unique value\n",
    "    mask = loan_data_strings[:, 3] == i\n",
    "    # Update the values in the 4th column using the mask\n",
    "    loan_data_strings[mask, 3] = sub_grade_dict[i]\n",
    "    \n",
    "loan_data_strings[:, 3]    "
   ]
  },
  {
   "cell_type": "code",
   "execution_count": 885,
   "id": "2a76568f",
   "metadata": {},
   "outputs": [
    {
     "data": {
      "text/plain": [
       "array(['1', '10', '11', '12', '13', '14', '15', '16', '17', '18', '19', '2', '20', '21', '22',\n",
       "       '23', '24', '25', '26', '27', '28', '29', '3', '30', '31', '32', '33', '34', '35', '36',\n",
       "       '4', '5', '6', '7', '8', '9'], dtype='<U69')"
      ]
     },
     "execution_count": 885,
     "metadata": {},
     "output_type": "execute_result"
    }
   ],
   "source": [
    "np.unique(loan_data_strings[:, 3])"
   ]
  },
  {
   "cell_type": "code",
   "execution_count": 886,
   "id": "c6d6f530",
   "metadata": {},
   "outputs": [
    {
     "data": {
      "text/plain": [
       "array(['issue_date', 'loan_status', 'term_months', 'sub_grade', 'verification_status', 'url',\n",
       "       'addr_state'], dtype='<U19')"
      ]
     },
     "execution_count": 886,
     "metadata": {},
     "output_type": "execute_result"
    }
   ],
   "source": [
    "checkpoint_test = checkpoint(\"checkpoint_test8\", header_strings, loan_data_strings )\n",
    "\n",
    "#lets check our checkpoints\n",
    "checkpoint_test['header'] == header_strings\n",
    "np.array_equal(checkpoint_test['data'], loan_data_strings )\n",
    "header_strings"
   ]
  },
  {
   "cell_type": "code",
   "execution_count": null,
   "id": "08d2dc19",
   "metadata": {},
   "outputs": [],
   "source": []
  },
  {
   "cell_type": "markdown",
   "id": "1db7ebab",
   "metadata": {},
   "source": [
    "# Verification status "
   ]
  },
  {
   "cell_type": "code",
   "execution_count": 824,
   "id": "d9550272",
   "metadata": {},
   "outputs": [],
   "source": [
    "# Revert to the checkpoint\n",
    "#checkpoint_data = np.load('checkpoint_test8.npz')\n",
    "#header = checkpoint_data['header']\n",
    "#data = checkpoint_data['data']"
   ]
  },
  {
   "cell_type": "code",
   "execution_count": 825,
   "id": "12f66f86",
   "metadata": {},
   "outputs": [],
   "source": [
    "#loan_data_strings = data\n",
    "#header_strings = header\n"
   ]
  },
  {
   "cell_type": "code",
   "execution_count": 887,
   "id": "f07fd289",
   "metadata": {},
   "outputs": [
    {
     "data": {
      "text/plain": [
       "array(['', 'Not Verified', 'Source Verified', 'Verified'], dtype='<U69')"
      ]
     },
     "execution_count": 887,
     "metadata": {},
     "output_type": "execute_result"
    }
   ],
   "source": [
    "np.unique(loan_data_strings[:,4])"
   ]
  },
  {
   "cell_type": "code",
   "execution_count": 888,
   "id": "2e4cd9f0",
   "metadata": {},
   "outputs": [
    {
     "data": {
      "text/plain": [
       "'verification_status'"
      ]
     },
     "execution_count": 888,
     "metadata": {},
     "output_type": "execute_result"
    }
   ],
   "source": [
    "header_strings[4]"
   ]
  },
  {
   "cell_type": "code",
   "execution_count": 889,
   "id": "3b44ee85",
   "metadata": {},
   "outputs": [
    {
     "data": {
      "text/plain": [
       "array(['Verified', 'Source Verified', 'Verified', ..., 'Source Verified', 'Source Verified', ''],\n",
       "      dtype='<U69')"
      ]
     },
     "execution_count": 889,
     "metadata": {},
     "output_type": "execute_result"
    }
   ],
   "source": [
    "loan_data_strings[:,4]"
   ]
  },
  {
   "cell_type": "code",
   "execution_count": 890,
   "id": "54984727",
   "metadata": {},
   "outputs": [
    {
     "data": {
      "text/plain": [
       "array(['', 'Not Verified', 'Source Verified', 'Verified'], dtype='<U69')"
      ]
     },
     "execution_count": 890,
     "metadata": {},
     "output_type": "execute_result"
    }
   ],
   "source": [
    "np.unique(loan_data_strings[:,4])"
   ]
  },
  {
   "cell_type": "code",
   "execution_count": 891,
   "id": "061ea919",
   "metadata": {},
   "outputs": [
    {
     "name": "stdout",
     "output_type": "stream",
     "text": [
      "['0' '1']\n"
     ]
    }
   ],
   "source": [
    "#as we assume the worst will attribute '0' to empty and 'Not Verified'\n",
    "#and the value '1' to 'Source Verified', 'Verified'\n",
    "\n",
    "# Create a mask for the conditions to be '0'\n",
    "mask_0 = (loan_data_strings[:, 4] == '') | (loan_data_strings[:, 4] == 'Not Verified')\n",
    "\n",
    "# Apply the mask to set values to '0'\n",
    "loan_data_strings[mask_0, 4] = 0\n",
    "\n",
    "# Set the remaining values to '1'\n",
    "loan_data_strings[~mask_0, 4] = 1\n",
    "\n",
    "# Convert the column to integers\n",
    "loan_data_strings[:, 4] = loan_data_strings[:, 4].astype(int) # cast type into int\n",
    "\n",
    "#print(loan_data_strings)\n",
    "print(np.unique(loan_data_strings[:, 4]))"
   ]
  },
  {
   "cell_type": "code",
   "execution_count": 892,
   "id": "944abdf8",
   "metadata": {},
   "outputs": [
    {
     "data": {
      "text/plain": [
       "array(['0', '1'], dtype='<U69')"
      ]
     },
     "execution_count": 892,
     "metadata": {},
     "output_type": "execute_result"
    }
   ],
   "source": [
    "np.unique(loan_data_strings[:,4])"
   ]
  },
  {
   "cell_type": "code",
   "execution_count": 893,
   "id": "2a1edf5b",
   "metadata": {},
   "outputs": [
    {
     "data": {
      "text/plain": [
       "True"
      ]
     },
     "execution_count": 893,
     "metadata": {},
     "output_type": "execute_result"
    }
   ],
   "source": [
    "checkpoint_test = checkpoint(\"checkpoint_test9\", header_strings, loan_data_strings )\n",
    "\n",
    "#lets check our checkpoints\n",
    "checkpoint_test['header'] == header_strings\n",
    "np.array_equal(checkpoint_test['data'], loan_data_strings )"
   ]
  },
  {
   "cell_type": "markdown",
   "id": "12647872",
   "metadata": {},
   "source": [
    "# URL"
   ]
  },
  {
   "cell_type": "code",
   "execution_count": 894,
   "id": "6a9a0af3",
   "metadata": {},
   "outputs": [
    {
     "data": {
      "text/plain": [
       "array(['https://www.lendingclub.com/browse/loanDetail.action?loan_id=12606806',\n",
       "       'https://www.lendingclub.com/browse/loanDetail.action?loan_id=13026045',\n",
       "       'https://www.lendingclub.com/browse/loanDetail.action?loan_id=1312426', ...,\n",
       "       'https://www.lendingclub.com/browse/loanDetail.action?loan_id=8138291',\n",
       "       'https://www.lendingclub.com/browse/loanDetail.action?loan_id=8214572',\n",
       "       'https://www.lendingclub.com/browse/loanDetail.action?loan_id=849994'], dtype='<U69')"
      ]
     },
     "execution_count": 894,
     "metadata": {},
     "output_type": "execute_result"
    }
   ],
   "source": [
    "np.unique(loan_data_strings[:,5])"
   ]
  },
  {
   "cell_type": "code",
   "execution_count": 895,
   "id": "2d90e138",
   "metadata": {},
   "outputs": [],
   "source": [
    "#We can notice that the url string values is identical\n",
    "#we can stripe this identical value\n",
    "loan_data_strings[:,5] = np.char.strip(loan_data_strings[:,5] , 'https://www.lendingclub.com/browse/loanDetail.action?loan_id=')"
   ]
  },
  {
   "cell_type": "code",
   "execution_count": 896,
   "id": "236ef184",
   "metadata": {},
   "outputs": [
    {
     "data": {
      "text/plain": [
       "array(['12606806', '13026045', '1312426', ..., '8138291', '8214572', '849994'], dtype='<U69')"
      ]
     },
     "execution_count": 896,
     "metadata": {},
     "output_type": "execute_result"
    }
   ],
   "source": [
    "np.unique(loan_data_strings[:,5])"
   ]
  },
  {
   "cell_type": "code",
   "execution_count": 900,
   "id": "7f3705fb",
   "metadata": {},
   "outputs": [
    {
     "data": {
      "text/plain": [
       "True"
      ]
     },
     "execution_count": 900,
     "metadata": {},
     "output_type": "execute_result"
    }
   ],
   "source": [
    "#We notice that the values remaing are the IDs values\n",
    "#Lets check with np.array_equal if the numeric values are equal \n",
    "np.array_equal(loan_data_strings[:,5].astype(int),loan_data_numeric[:,0].astype(int))"
   ]
  },
  {
   "cell_type": "code",
   "execution_count": 902,
   "id": "8bc709e7",
   "metadata": {},
   "outputs": [
    {
     "data": {
      "text/plain": [
       "array([48010226, 57693261, 59432726, ..., 50415990, 46154151, 66055249])"
      ]
     },
     "execution_count": 902,
     "metadata": {},
     "output_type": "execute_result"
    }
   ],
   "source": [
    "strings = loan_data_strings[:,5].astype(int)\n",
    "strings\n",
    "    "
   ]
  },
  {
   "cell_type": "code",
   "execution_count": 903,
   "id": "1e7bac00",
   "metadata": {},
   "outputs": [
    {
     "data": {
      "text/plain": [
       "array(['48010226', '57693261', '59432726', ..., '50415990', '46154151', '66055249'], dtype='<U69')"
      ]
     },
     "execution_count": 903,
     "metadata": {},
     "output_type": "execute_result"
    }
   ],
   "source": [
    "loan_data_strings[:,5]"
   ]
  },
  {
   "cell_type": "code",
   "execution_count": 907,
   "id": "aece11e0",
   "metadata": {},
   "outputs": [],
   "source": [
    "#As the id column values and the URL column values are identical\n",
    "#we could remove URL \n",
    "\n",
    "#loan_data_strings = np.delete(loan_data_strings, 5, axis = 1)\n",
    "\n"
   ]
  },
  {
   "cell_type": "markdown",
   "id": "0eb14119",
   "metadata": {},
   "source": [
    "I had commented remove URL so I don't execute it twice or more "
   ]
  },
  {
   "cell_type": "code",
   "execution_count": 908,
   "id": "1dfce588",
   "metadata": {},
   "outputs": [],
   "source": [
    "#header_strings = np.delete(header_strings, 5)"
   ]
  },
  {
   "cell_type": "code",
   "execution_count": 909,
   "id": "5447c9ea",
   "metadata": {},
   "outputs": [
    {
     "data": {
      "text/plain": [
       "array(['issue_date', 'loan_status', 'term_months', 'sub_grade', 'verification_status',\n",
       "       'addr_state'], dtype='<U19')"
      ]
     },
     "execution_count": 909,
     "metadata": {},
     "output_type": "execute_result"
    }
   ],
   "source": [
    "header_strings"
   ]
  },
  {
   "cell_type": "code",
   "execution_count": 913,
   "id": "39d11162",
   "metadata": {},
   "outputs": [],
   "source": [
    "header_strings[5] = \"state_address\""
   ]
  },
  {
   "cell_type": "code",
   "execution_count": 911,
   "id": "f9e48f6b",
   "metadata": {},
   "outputs": [
    {
     "data": {
      "text/plain": [
       "array(['', 'AK', 'AL', 'AR', 'AZ', 'CA', 'CO', 'CT', 'DC', 'DE', 'FL', 'GA', 'HI', 'IL', 'IN',\n",
       "       'KS', 'KY', 'LA', 'MA', 'MD', 'ME', 'MI', 'MN', 'MO', 'MS', 'MT', 'NC', 'ND', 'NE', 'NH',\n",
       "       'NJ', 'NM', 'NV', 'NY', 'OH', 'OK', 'OR', 'PA', 'RI', 'SC', 'SD', 'TN', 'TX', 'UT', 'VA',\n",
       "       'VT', 'WA', 'WI', 'WV', 'WY'], dtype='<U69')"
      ]
     },
     "execution_count": 911,
     "metadata": {},
     "output_type": "execute_result"
    }
   ],
   "source": [
    "np.unique(loan_data_strings[:,5])"
   ]
  },
  {
   "cell_type": "code",
   "execution_count": 914,
   "id": "c4f136e6",
   "metadata": {},
   "outputs": [
    {
     "data": {
      "text/plain": [
       "(array(['CA', 'NY', 'TX', 'FL', '', 'IL', 'NJ', 'GA', 'PA', 'OH', 'MI', 'NC', 'VA', 'MD', 'AZ',\n",
       "        'WA', 'MA', 'CO', 'MO', 'MN', 'IN', 'WI', 'CT', 'TN', 'NV', 'AL', 'LA', 'OR', 'SC', 'KY',\n",
       "        'KS', 'OK', 'UT', 'AR', 'MS', 'NH', 'NM', 'WV', 'HI', 'RI', 'MT', 'DE', 'DC', 'WY', 'AK',\n",
       "        'NE', 'SD', 'VT', 'ND', 'ME'], dtype='<U69'),\n",
       " array([1336,  777,  758,  690,  500,  389,  341,  321,  320,  312,  267,  261,  242,  222,  220,\n",
       "         216,  210,  201,  160,  156,  152,  148,  143,  143,  130,  119,  116,  108,  107,   84,\n",
       "          84,   83,   74,   74,   61,   58,   57,   49,   44,   40,   28,   27,   27,   27,   26,\n",
       "          25,   24,   17,   16,   10], dtype=int64))"
      ]
     },
     "execution_count": 914,
     "metadata": {},
     "output_type": "execute_result"
    }
   ],
   "source": [
    "states_names, states_count = np.unique(loan_data_strings[:,5], return_counts = True)\n",
    "states_count_sorted = np.argsort(-states_count)\n",
    "states_names[states_count_sorted], states_count[states_count_sorted]"
   ]
  },
  {
   "cell_type": "code",
   "execution_count": 912,
   "id": "0287eb31",
   "metadata": {},
   "outputs": [],
   "source": [
    "# we can notice that the address state is the first two inittials of the 50 USA states\n"
   ]
  },
  {
   "cell_type": "code",
   "execution_count": 915,
   "id": "7d9f7868",
   "metadata": {},
   "outputs": [],
   "source": [
    "loan_data_strings[:,5] = np.where(loan_data_strings[:,5] == '', \n",
    "                                  0, \n",
    "                                  loan_data_strings[:,5])"
   ]
  },
  {
   "cell_type": "code",
   "execution_count": 916,
   "id": "72b0c4e8",
   "metadata": {},
   "outputs": [],
   "source": [
    "states_west = np.array(['WA', 'OR','CA','NV','ID','MT', 'WY','UT','CO', 'AZ','NM','HI','AK'])\n",
    "states_south = np.array(['TX','OK','AR','LA','MS','AL','TN','KY','FL','GA','SC','NC','VA','WV','MD','DE','DC'])\n",
    "states_midwest = np.array(['ND','SD','NE','KS','MN','IA','MO','WI','IL','IN','MI','OH'])\n",
    "states_east = np.array(['PA','NY','NJ','CT','MA','VT','NH','ME','RI'])"
   ]
  },
  {
   "cell_type": "markdown",
   "id": "b8862191",
   "metadata": {},
   "source": [
    "https://www2.census.gov/geo/pdfs/maps-data/maps/reference/us_regdiv.pdf"
   ]
  },
  {
   "cell_type": "code",
   "execution_count": 917,
   "id": "ba73ffa1",
   "metadata": {},
   "outputs": [],
   "source": [
    "loan_data_strings[:,5] = np.where(np.isin(loan_data_strings[:,5], states_west), 1, loan_data_strings[:,5])\n",
    "loan_data_strings[:,5] = np.where(np.isin(loan_data_strings[:,5], states_south), 2, loan_data_strings[:,5])\n",
    "loan_data_strings[:,5] = np.where(np.isin(loan_data_strings[:,5], states_midwest), 3, loan_data_strings[:,5])\n",
    "loan_data_strings[:,5] = np.where(np.isin(loan_data_strings[:,5], states_east), 4, loan_data_strings[:,5])"
   ]
  },
  {
   "cell_type": "code",
   "execution_count": 918,
   "id": "6713ec59",
   "metadata": {},
   "outputs": [
    {
     "data": {
      "text/plain": [
       "array(['0', '1', '2', '3', '4'], dtype='<U69')"
      ]
     },
     "execution_count": 918,
     "metadata": {},
     "output_type": "execute_result"
    }
   ],
   "source": [
    "np.unique(loan_data_strings[:,5])"
   ]
  },
  {
   "cell_type": "markdown",
   "id": "b16e1034",
   "metadata": {},
   "source": [
    "# Converting to Numbers"
   ]
  },
  {
   "cell_type": "code",
   "execution_count": 919,
   "id": "9f20eec2",
   "metadata": {},
   "outputs": [
    {
     "data": {
      "text/plain": [
       "array([['5', '1', '36', '13', '1', '1'],\n",
       "       ['0', '1', '36', '5', '1', '4'],\n",
       "       ['9', '1', '36', '10', '1', '4'],\n",
       "       ...,\n",
       "       ['6', '1', '36', '5', '1', '1'],\n",
       "       ['4', '1', '36', '17', '1', '3'],\n",
       "       ['12', '1', '36', '4', '0', '3']], dtype='<U69')"
      ]
     },
     "execution_count": 919,
     "metadata": {},
     "output_type": "execute_result"
    }
   ],
   "source": [
    "loan_data_strings"
   ]
  },
  {
   "cell_type": "code",
   "execution_count": 921,
   "id": "75232e49",
   "metadata": {},
   "outputs": [],
   "source": [
    "loan_data_strings = loan_data_strings.astype(int)"
   ]
  },
  {
   "cell_type": "code",
   "execution_count": 922,
   "id": "6405b851",
   "metadata": {},
   "outputs": [
    {
     "data": {
      "text/plain": [
       "array([[ 5,  1, 36, 13,  1,  1],\n",
       "       [ 0,  1, 36,  5,  1,  4],\n",
       "       [ 9,  1, 36, 10,  1,  4],\n",
       "       ...,\n",
       "       [ 6,  1, 36,  5,  1,  1],\n",
       "       [ 4,  1, 36, 17,  1,  3],\n",
       "       [12,  1, 36,  4,  0,  3]])"
      ]
     },
     "execution_count": 922,
     "metadata": {},
     "output_type": "execute_result"
    }
   ],
   "source": [
    "loan_data_strings"
   ]
  },
  {
   "cell_type": "markdown",
   "id": "4d2d41d2",
   "metadata": {},
   "source": [
    "# Checkpoint"
   ]
  },
  {
   "cell_type": "code",
   "execution_count": 923,
   "id": "13059477",
   "metadata": {},
   "outputs": [],
   "source": [
    "#Create a checkpoint \n",
    "checkpoint_strings = checkpoint(\"checkpoint_test10\", header_strings, loan_data_strings)"
   ]
  },
  {
   "cell_type": "code",
   "execution_count": 924,
   "id": "f73c4caa",
   "metadata": {},
   "outputs": [
    {
     "data": {
      "text/plain": [
       "array(['issue_date', 'loan_status', 'term_months', 'sub_grade', 'verification_status',\n",
       "       'state_address'], dtype='<U19')"
      ]
     },
     "execution_count": 924,
     "metadata": {},
     "output_type": "execute_result"
    }
   ],
   "source": [
    "checkpoint_strings[\"header\"]"
   ]
  },
  {
   "cell_type": "code",
   "execution_count": 925,
   "id": "5fa7c925",
   "metadata": {},
   "outputs": [
    {
     "data": {
      "text/plain": [
       "array([[ 5,  1, 36, 13,  1,  1],\n",
       "       [ 0,  1, 36,  5,  1,  4],\n",
       "       [ 9,  1, 36, 10,  1,  4],\n",
       "       ...,\n",
       "       [ 6,  1, 36,  5,  1,  1],\n",
       "       [ 4,  1, 36, 17,  1,  3],\n",
       "       [12,  1, 36,  4,  0,  3]])"
      ]
     },
     "execution_count": 925,
     "metadata": {},
     "output_type": "execute_result"
    }
   ],
   "source": [
    "checkpoint_strings[\"data\"]"
   ]
  },
  {
   "cell_type": "code",
   "execution_count": null,
   "id": "db563f8d",
   "metadata": {},
   "outputs": [],
   "source": []
  },
  {
   "cell_type": "markdown",
   "id": "298bf26f",
   "metadata": {},
   "source": [
    "# Clean and Preprocess Numeric columns"
   ]
  },
  {
   "cell_type": "code",
   "execution_count": 927,
   "id": "4874bd25",
   "metadata": {},
   "outputs": [
    {
     "data": {
      "text/plain": [
       "array([[48010226.  ,    35000.  ,    35000.  ,       13.33,     1184.86,     9452.96],\n",
       "       [57693261.  ,    30000.  ,    30000.  , 68616520.  ,      938.57,     4679.7 ],\n",
       "       [59432726.  ,    15000.  ,    15000.  , 68616520.  ,      494.86,     1969.83],\n",
       "       ...,\n",
       "       [50415990.  ,    10000.  ,    10000.  , 68616520.  , 68616520.  ,     2185.64],\n",
       "       [46154151.  , 68616520.  ,    10000.  ,       16.55,      354.3 ,     3199.4 ],\n",
       "       [66055249.  ,    10000.  ,    10000.  , 68616520.  ,      309.97,      301.9 ]])"
      ]
     },
     "execution_count": 927,
     "metadata": {},
     "output_type": "execute_result"
    }
   ],
   "source": [
    "# Lets check first the missing values values \n",
    "loan_data_numeric"
   ]
  },
  {
   "cell_type": "markdown",
   "id": "4c41bb36",
   "metadata": {},
   "source": [
    "# Substitute \"Filler\" values"
   ]
  },
  {
   "cell_type": "code",
   "execution_count": 930,
   "id": "4631dadd",
   "metadata": {},
   "outputs": [
    {
     "data": {
      "text/plain": [
       "0"
      ]
     },
     "execution_count": 930,
     "metadata": {},
     "output_type": "execute_result"
    }
   ],
   "source": [
    "np.isnan(loan_data_numeric).sum()"
   ]
  },
  {
   "cell_type": "markdown",
   "id": "3ba80af0",
   "metadata": {},
   "source": [
    "It looks like we don't have any missing numeric values, nut this isn't true because we had used a temporary filling when we had loaded our numeric data.\n",
    "\n",
    "temporary_fill = np.nanmax(raw_data) + 1\n",
    "\n",
    "we will need to substitue the temporary fill with the worst senario for our case\n"
   ]
  },
  {
   "cell_type": "code",
   "execution_count": 931,
   "id": "f1cb1b6a",
   "metadata": {},
   "outputs": [
    {
     "data": {
      "text/plain": [
       "array(['id', 'loan_amnt', 'funded_amnt', 'int_rate', 'installment', 'total_pymnt'], dtype='<U19')"
      ]
     },
     "execution_count": 931,
     "metadata": {},
     "output_type": "execute_result"
    }
   ],
   "source": [
    "header_numeric"
   ]
  },
  {
   "cell_type": "markdown",
   "id": "0b02934d",
   "metadata": {},
   "source": [
    "# We will check column by column \n"
   ]
  },
  {
   "cell_type": "markdown",
   "id": "5d0bb20c",
   "metadata": {},
   "source": [
    "# ID"
   ]
  },
  {
   "cell_type": "code",
   "execution_count": 939,
   "id": "4e4bba1f",
   "metadata": {},
   "outputs": [
    {
     "data": {
      "text/plain": [
       "array([  373332.,   575239.,   707689., ..., 68614880., 68615915., 68616519.])"
      ]
     },
     "execution_count": 939,
     "metadata": {},
     "output_type": "execute_result"
    }
   ],
   "source": [
    "np.unique(loan_data_numeric[:,0])"
   ]
  },
  {
   "cell_type": "code",
   "execution_count": 941,
   "id": "34ad51f3",
   "metadata": {},
   "outputs": [
    {
     "data": {
      "text/plain": [
       "68616520.0"
      ]
     },
     "execution_count": 941,
     "metadata": {},
     "output_type": "execute_result"
    }
   ],
   "source": [
    "# temporary filler\n",
    "temporary_fill"
   ]
  },
  {
   "cell_type": "code",
   "execution_count": 942,
   "id": "ef606d64",
   "metadata": {},
   "outputs": [
    {
     "data": {
      "text/plain": [
       "array([[  373332.  ,         nan,     1000.  ,         nan,     1000.  ,         nan,        6.  ,\n",
       "              31.42,         nan,         nan,         nan,         nan,         nan,        0.  ],\n",
       "       [54015809.19,         nan,    15273.46,         nan,    15311.04,         nan,       16.62,\n",
       "             440.92,         nan,         nan,         nan,         nan,         nan,     3143.85],\n",
       "       [68616519.  ,         nan,    35000.  ,         nan,    35000.  ,         nan,       28.99,\n",
       "            1372.97,         nan,         nan,         nan,         nan,         nan,    41913.62]])"
      ]
     },
     "execution_count": 942,
     "metadata": {},
     "output_type": "execute_result"
    }
   ],
   "source": [
    "# temporary stats includes : min , mean, max values for each column\n",
    "temporary_stats"
   ]
  },
  {
   "cell_type": "code",
   "execution_count": 943,
   "id": "bd618732",
   "metadata": {},
   "outputs": [
    {
     "data": {
      "text/plain": [
       "array([False, False, False, ..., False, False, False])"
      ]
     },
     "execution_count": 943,
     "metadata": {},
     "output_type": "execute_result"
    }
   ],
   "source": [
    "# Lets first check and susbstitue the Filler with the worst possible value  \n",
    "\n",
    "np.isin(loan_data_numeric[:,0], temporary_fill)"
   ]
  },
  {
   "cell_type": "code",
   "execution_count": 944,
   "id": "d0cdba78",
   "metadata": {},
   "outputs": [
    {
     "data": {
      "text/plain": [
       "0"
      ]
     },
     "execution_count": 944,
     "metadata": {},
     "output_type": "execute_result"
    }
   ],
   "source": [
    "np.isin(loan_data_numeric[:,0], temporary_fill).sum()"
   ]
  },
  {
   "cell_type": "markdown",
   "id": "f9358fe0",
   "metadata": {},
   "source": [
    "There is no temporary fill in the ID column, no need to substitue anything"
   ]
  },
  {
   "cell_type": "markdown",
   "id": "1b5ebda8",
   "metadata": {},
   "source": [
    "On the next step we will need to be carefull while choosing how to substitue the temporary fill, we need to choose the worst senario for each column values, min, mean or max value"
   ]
  },
  {
   "cell_type": "code",
   "execution_count": 945,
   "id": "c020543e",
   "metadata": {},
   "outputs": [
    {
     "data": {
      "text/plain": [
       "array(['id', 'loan_amnt', 'funded_amnt', 'int_rate', 'installment', 'total_pymnt'], dtype='<U19')"
      ]
     },
     "execution_count": 945,
     "metadata": {},
     "output_type": "execute_result"
    }
   ],
   "source": [
    "header_numeric"
   ]
  },
  {
   "cell_type": "code",
   "execution_count": 957,
   "id": "74a30ea1",
   "metadata": {},
   "outputs": [
    {
     "data": {
      "text/plain": [
       "array([[  373332.  ,     1000.  ,     1000.  ,        6.  ,       31.42,        0.  ],\n",
       "       [54015809.19,    15273.46,    15311.04,       16.62,      440.92,     3143.85],\n",
       "       [68616519.  ,    35000.  ,    35000.  ,       28.99,     1372.97,    41913.62]])"
      ]
     },
     "execution_count": 957,
     "metadata": {},
     "output_type": "execute_result"
    }
   ],
   "source": [
    "# we have stored min, mean, and max values in temporary stats\n",
    "# where the first row is the min for each column, 2nd row the mean and 3d row is the max for each column\n",
    "temporary_stats[:, columns_numeric]"
   ]
  },
  {
   "cell_type": "code",
   "execution_count": 949,
   "id": "10f8aac1",
   "metadata": {},
   "outputs": [],
   "source": [
    "# After carefull consideration we conclude to the following sbstitues : \n",
    "# 'funded_amnt': min filler value \n",
    "#'loan_amnt', 'int_rate', 'installment', 'total_pymnt' : max filler value \n"
   ]
  },
  {
   "cell_type": "code",
   "execution_count": 960,
   "id": "776cfa3f",
   "metadata": {},
   "outputs": [
    {
     "data": {
      "text/plain": [
       "1000.0"
      ]
     },
     "execution_count": 960,
     "metadata": {},
     "output_type": "execute_result"
    }
   ],
   "source": [
    "# for example the min value for 'loan_amnt' is:\n",
    "temporary_stats[:,columns_numeric][0,1]"
   ]
  },
  {
   "cell_type": "markdown",
   "id": "a6a4ab96",
   "metadata": {},
   "source": [
    "# Funded Amount"
   ]
  },
  {
   "cell_type": "code",
   "execution_count": 961,
   "id": "fc319acd",
   "metadata": {},
   "outputs": [
    {
     "data": {
      "text/plain": [
       "1000.0"
      ]
     },
     "execution_count": 961,
     "metadata": {},
     "output_type": "execute_result"
    }
   ],
   "source": [
    "temporary_stats[0,columns_numeric[2]]"
   ]
  },
  {
   "cell_type": "code",
   "execution_count": 963,
   "id": "0b61e53e",
   "metadata": {},
   "outputs": [
    {
     "data": {
      "text/plain": [
       "array([35000., 30000., 15000., ..., 10000., 10000., 10000.])"
      ]
     },
     "execution_count": 963,
     "metadata": {},
     "output_type": "execute_result"
    }
   ],
   "source": [
    "# fill in funded amount column with the min value of funded amount column\n",
    "loan_data_numeric[:,2] = np.where(loan_data_numeric[:,2] == temporary_fill, temporary_stats[0,columns_numeric[2]], loan_data_numeric[:,2] )\n",
    "loan_data_numeric[:,2]"
   ]
  },
  {
   "cell_type": "markdown",
   "id": "3c92d477",
   "metadata": {},
   "source": [
    "# 'loan_amnt', 'int_rate', 'installment', 'total_pymnt'"
   ]
  },
  {
   "cell_type": "code",
   "execution_count": 967,
   "id": "bb01f6d1",
   "metadata": {},
   "outputs": [
    {
     "data": {
      "text/plain": [
       "35000.0"
      ]
     },
     "execution_count": 967,
     "metadata": {},
     "output_type": "execute_result"
    }
   ],
   "source": [
    "temporary_stats[2,columns_numeric[1]]"
   ]
  },
  {
   "cell_type": "code",
   "execution_count": 968,
   "id": "70dcf964",
   "metadata": {},
   "outputs": [
    {
     "data": {
      "text/plain": [
       "array([35000., 30000., 15000., ..., 10000., 35000., 10000.])"
      ]
     },
     "execution_count": 968,
     "metadata": {},
     "output_type": "execute_result"
    }
   ],
   "source": [
    "# fill in the remaing column with the max values for their correspendant columns\n",
    "#'loan_amnt'\n",
    "loan_data_numeric[:,1] = np.where(loan_data_numeric[:,1] == temporary_fill, temporary_stats[2,columns_numeric[1]], loan_data_numeric[:,1] )\n",
    "loan_data_numeric[:,1]"
   ]
  },
  {
   "cell_type": "code",
   "execution_count": 969,
   "id": "e248ca2d",
   "metadata": {},
   "outputs": [
    {
     "data": {
      "text/plain": [
       "array([13.33, 28.99, 28.99, ..., 28.99, 16.55, 28.99])"
      ]
     },
     "execution_count": 969,
     "metadata": {},
     "output_type": "execute_result"
    }
   ],
   "source": [
    "#'int_rate'\n",
    "loan_data_numeric[:,3] = np.where(loan_data_numeric[:,3] == temporary_fill, temporary_stats[2,columns_numeric[3]], loan_data_numeric[:,3] )\n",
    "loan_data_numeric[:,3]"
   ]
  },
  {
   "cell_type": "code",
   "execution_count": 970,
   "id": "4e4f72b6",
   "metadata": {},
   "outputs": [
    {
     "data": {
      "text/plain": [
       "array([1184.86,  938.57,  494.86, ..., 1372.97,  354.3 ,  309.97])"
      ]
     },
     "execution_count": 970,
     "metadata": {},
     "output_type": "execute_result"
    }
   ],
   "source": [
    "#'installment'\n",
    "loan_data_numeric[:,4] = np.where(loan_data_numeric[:,4] == temporary_fill, temporary_stats[2,columns_numeric[4]], loan_data_numeric[:,4] )\n",
    "loan_data_numeric[:,4]"
   ]
  },
  {
   "cell_type": "code",
   "execution_count": 971,
   "id": "fcbff5c0",
   "metadata": {},
   "outputs": [
    {
     "data": {
      "text/plain": [
       "array([9452.96, 4679.7 , 1969.83, ..., 2185.64, 3199.4 ,  301.9 ])"
      ]
     },
     "execution_count": 971,
     "metadata": {},
     "output_type": "execute_result"
    }
   ],
   "source": [
    "#'total_pymnt'\n",
    "loan_data_numeric[:,5] = np.where(loan_data_numeric[:,5] == temporary_fill, temporary_stats[2,columns_numeric[5]], loan_data_numeric[:,5] )\n",
    "loan_data_numeric[:,5]"
   ]
  },
  {
   "cell_type": "markdown",
   "id": "a0e21946",
   "metadata": {},
   "source": [
    "# Convert Dollars to Euros "
   ]
  },
  {
   "cell_type": "code",
   "execution_count": 976,
   "id": "47a6d9ff",
   "metadata": {},
   "outputs": [
    {
     "data": {
      "text/plain": [
       "array([['Open', 'High', 'Low', 'Close', 'Volume'],\n",
       "       ['1.2098628282546997', '1.2098628282546997', '1.11055588722229', '1.1287955045700073', '0'],\n",
       "       ['1.1287955045700073', '1.1484194993972778', '1.117680549621582', '1.1205360889434814',\n",
       "        '0'],\n",
       "       ['1.119795799255371', '1.1240400075912476', '1.0460032224655151', '1.0830246210098267',\n",
       "        '0'],\n",
       "       ['1.0741022825241089', '1.1247594356536865', '1.0521597862243652', '1.1114321947097778',\n",
       "        '0'],\n",
       "       ['1.1215037107467651', '1.145304799079895', '1.0821995735168457', '1.0960345268249512',\n",
       "        '0'],\n",
       "       ['1.095902442932129', '1.1428401470184326', '1.0888904333114624', '1.122296690940857', '0'],\n",
       "       ['1.1134989261627197', '1.1219995021820068', '1.081270456314087', '1.0939244031906128',\n",
       "        '0'],\n",
       "       ['1.0969001054763794', '1.1705996990203857', '1.0850305557250977', '1.1340054273605347',\n",
       "        '0'],\n",
       "       ['1.1225990056991577', '1.1460003852844238', '1.1089695692062378', '1.1255937814712524',\n",
       "        '0'],\n",
       "       ['1.1171561479568481', '1.1494200229644775', '1.0910003185272217', '1.100897192955017',\n",
       "        '0'],\n",
       "       ['1.1024993658065796', '1.1060001850128174', '1.056400179862976', '1.0583018064498901',\n",
       "        '0'],\n",
       "       ['1.0572947263717651', '1.107000470161438', '1.0541995763778687', '1.093398094177246', '0']],\n",
       "      dtype='<U18')"
      ]
     },
     "execution_count": 976,
     "metadata": {},
     "output_type": "execute_result"
    }
   ],
   "source": [
    "# The EUR-USD.csv file contains the average monthly exchange rate for 2015\n",
    "EUR_USD = np.genfromtxt(\"EUR-USD.csv\", \n",
    "                        delimiter = \",\" ,\n",
    "                        autostrip =True,\n",
    "                        dtype = str)\n",
    "EUR_USD"
   ]
  },
  {
   "cell_type": "code",
   "execution_count": 1020,
   "id": "8e3b77b7",
   "metadata": {},
   "outputs": [
    {
     "data": {
      "text/plain": [
       "array([1.13, 1.12, 1.08, 1.11, 1.1 , 1.12, 1.09, 1.13, 1.13, 1.1 , 1.06, 1.09])"
      ]
     },
     "execution_count": 1020,
     "metadata": {},
     "output_type": "execute_result"
    }
   ],
   "source": [
    "# In CRM analysis we only use the Closing value of an exchange rate, thus we will\n",
    "# only import the exchange rate we need\n",
    "EUR_USD = np.genfromtxt(\"EUR-USD.csv\", \n",
    "                        delimiter = \",\",\n",
    "                        autostrip =True,\n",
    "                        skip_header = 1,\n",
    "                        usecols = 3)\n",
    "EUR_USD\n"
   ]
  },
  {
   "cell_type": "code",
   "execution_count": 1021,
   "id": "d2206c9d",
   "metadata": {},
   "outputs": [
    {
     "data": {
      "text/plain": [
       "array([ 5,  0,  9, ...,  6,  4, 12])"
      ]
     },
     "execution_count": 1021,
     "metadata": {},
     "output_type": "execute_result"
    }
   ],
   "source": [
    "# the first column of our strings data is 'issue_date' which Correspondent to our exchage rate\n",
    "loan_data_strings[:,0]"
   ]
  },
  {
   "cell_type": "code",
   "execution_count": 1026,
   "id": "e3bd5d85",
   "metadata": {},
   "outputs": [
    {
     "data": {
      "text/plain": [
       "array([5.  , 1.11, 9.  , ..., 6.  , 4.  , 1.09])"
      ]
     },
     "execution_count": 1026,
     "metadata": {},
     "output_type": "execute_result"
    }
   ],
   "source": [
    "# Lets create a new variable which will contain the monthly Correspondent exchange rate\n",
    "exchange_rate = loan_data_strings[:,0]\n",
    "for i in range(1,13):\n",
    "    exchange_rate = np.where(loan_data_strings[:,0] == i, \n",
    "              EUR_USD[i-1],\n",
    "              loan_data_strings[:,0])\n",
    "    \n",
    "exchange_rate = np.where(exchange_rate == 0,\n",
    "                         np.mean(EUR_USD),\n",
    "                         exchange_rate)\n",
    "exchange_rate "
   ]
  },
  {
   "cell_type": "code",
   "execution_count": 1027,
   "id": "fb9e411c",
   "metadata": {},
   "outputs": [
    {
     "data": {
      "text/plain": [
       "array([ 1.  ,  1.09,  1.11,  2.  ,  3.  ,  4.  ,  5.  ,  6.  ,  7.  ,  8.  ,  9.  , 10.  , 11.  ])"
      ]
     },
     "execution_count": 1027,
     "metadata": {},
     "output_type": "execute_result"
    }
   ],
   "source": [
    " np.unique(exchange_rate)"
   ]
  },
  {
   "cell_type": "code",
   "execution_count": 1032,
   "id": "f276168d",
   "metadata": {},
   "outputs": [
    {
     "data": {
      "text/plain": [
       "(10000,)"
      ]
     },
     "execution_count": 1032,
     "metadata": {},
     "output_type": "execute_result"
    }
   ],
   "source": [
    "exchange_rate.shape"
   ]
  },
  {
   "cell_type": "code",
   "execution_count": 1033,
   "id": "624bc12e",
   "metadata": {},
   "outputs": [
    {
     "data": {
      "text/plain": [
       "(10000, 6)"
      ]
     },
     "execution_count": 1033,
     "metadata": {},
     "output_type": "execute_result"
    }
   ],
   "source": [
    "loan_data_numeric.shape"
   ]
  },
  {
   "cell_type": "code",
   "execution_count": null,
   "id": "43bb0a8d",
   "metadata": {},
   "outputs": [],
   "source": [
    "# We need to reshape exchange_rate, in order for us to insert it into loan_data_numeric\n"
   ]
  },
  {
   "cell_type": "code",
   "execution_count": 1035,
   "id": "18c28be8",
   "metadata": {},
   "outputs": [],
   "source": [
    "exchange_rate = np.reshape(exchange_rate, (10000,1))"
   ]
  },
  {
   "cell_type": "code",
   "execution_count": 1036,
   "id": "8c8a238d",
   "metadata": {},
   "outputs": [],
   "source": [
    "loan_data_numeric = np.hstack((loan_data_numeric, exchange_rate))"
   ]
  },
  {
   "cell_type": "code",
   "execution_count": 1037,
   "id": "f5b84836",
   "metadata": {},
   "outputs": [
    {
     "data": {
      "text/plain": [
       "array(['id', 'loan_amnt', 'funded_amnt', 'int_rate', 'installment', 'total_pymnt', 'exchange_rate'],\n",
       "      dtype='<U19')"
      ]
     },
     "execution_count": 1037,
     "metadata": {},
     "output_type": "execute_result"
    }
   ],
   "source": [
    "# We add the column name to the header\n",
    "header_numeric = np.concatenate((header_numeric, np.array(['exchange_rate'])))\n",
    "header_numeric"
   ]
  },
  {
   "cell_type": "markdown",
   "id": "e6073c67",
   "metadata": {},
   "source": [
    "### From the USD to EUR"
   ]
  },
  {
   "cell_type": "code",
   "execution_count": 1038,
   "id": "1829b132",
   "metadata": {},
   "outputs": [
    {
     "data": {
      "text/plain": [
       "array(['id', 'loan_amnt', 'funded_amnt', 'int_rate', 'installment', 'total_pymnt', 'exchange_rate'],\n",
       "      dtype='<U19')"
      ]
     },
     "execution_count": 1038,
     "metadata": {},
     "output_type": "execute_result"
    }
   ],
   "source": [
    "header_numeric"
   ]
  },
  {
   "cell_type": "code",
   "execution_count": 1039,
   "id": "3e10266d",
   "metadata": {},
   "outputs": [],
   "source": [
    "columns_dollar = np.array([1,2,4,5])"
   ]
  },
  {
   "cell_type": "code",
   "execution_count": 1040,
   "id": "15e80527",
   "metadata": {},
   "outputs": [
    {
     "data": {
      "text/plain": [
       "array([5.  , 1.11, 9.  , ..., 6.  , 4.  , 1.09])"
      ]
     },
     "execution_count": 1040,
     "metadata": {},
     "output_type": "execute_result"
    }
   ],
   "source": [
    "loan_data_numeric[:,6]"
   ]
  },
  {
   "cell_type": "code",
   "execution_count": 1041,
   "id": "2ec8aa70",
   "metadata": {},
   "outputs": [],
   "source": [
    "# We will convert columns [1,2,4,5] into EUR by dividing each column by it respective exchange rate\n",
    "for i in columns_dollar:\n",
    "    loan_data_numeric = np.hstack((loan_data_numeric,\n",
    "                                   np.reshape(loan_data_numeric[:,i] / loan_data_numeric[:,6],\n",
    "                                    (10000,1))))"
   ]
  },
  {
   "cell_type": "code",
   "execution_count": 1042,
   "id": "c7aebd5d",
   "metadata": {},
   "outputs": [
    {
     "data": {
      "text/plain": [
       "(10000, 11)"
      ]
     },
     "execution_count": 1042,
     "metadata": {},
     "output_type": "execute_result"
    }
   ],
   "source": [
    "loan_data_numeric.shape"
   ]
  },
  {
   "cell_type": "code",
   "execution_count": 1043,
   "id": "d925810a",
   "metadata": {},
   "outputs": [
    {
     "data": {
      "text/plain": [
       "array([[48010226.  ,    35000.  ,    35000.  , ...,     7000.  ,      236.97,     1890.59],\n",
       "       [57693261.  ,    30000.  ,    30000.  , ...,    27132.46,      848.86,     4232.39],\n",
       "       [59432726.  ,    15000.  ,    15000.  , ...,     1666.67,       54.98,      218.87],\n",
       "       ...,\n",
       "       [50415990.  ,    10000.  ,    10000.  , ...,     1666.67,      228.83,      364.27],\n",
       "       [46154151.  ,    35000.  ,    10000.  , ...,     2500.  ,       88.58,      799.85],\n",
       "       [66055249.  ,    10000.  ,    10000.  , ...,     9145.8 ,      283.49,      276.11]])"
      ]
     },
     "execution_count": 1043,
     "metadata": {},
     "output_type": "execute_result"
    }
   ],
   "source": [
    "loan_data_numeric"
   ]
  },
  {
   "cell_type": "markdown",
   "id": "656a3c9b",
   "metadata": {},
   "source": [
    "### Expanding the header"
   ]
  },
  {
   "cell_type": "code",
   "execution_count": 1044,
   "id": "95ed4437",
   "metadata": {},
   "outputs": [],
   "source": [
    "header_additional = np.array([column_name + '_EUR' for column_name in header_numeric[columns_dollar]])"
   ]
  },
  {
   "cell_type": "code",
   "execution_count": 1045,
   "id": "dd7089f4",
   "metadata": {},
   "outputs": [
    {
     "data": {
      "text/plain": [
       "array(['loan_amnt_EUR', 'funded_amnt_EUR', 'installment_EUR', 'total_pymnt_EUR'], dtype='<U15')"
      ]
     },
     "execution_count": 1045,
     "metadata": {},
     "output_type": "execute_result"
    }
   ],
   "source": [
    "header_additional"
   ]
  },
  {
   "cell_type": "code",
   "execution_count": 1046,
   "id": "02061b58",
   "metadata": {},
   "outputs": [
    {
     "data": {
      "text/plain": [
       "array(['id', 'loan_amnt', 'funded_amnt', 'int_rate', 'installment', 'total_pymnt', 'exchange_rate',\n",
       "       'loan_amnt_EUR', 'funded_amnt_EUR', 'installment_EUR', 'total_pymnt_EUR'], dtype='<U19')"
      ]
     },
     "execution_count": 1046,
     "metadata": {},
     "output_type": "execute_result"
    }
   ],
   "source": [
    "header_numeric = np.concatenate((header_numeric, header_additional))\n",
    "header_numeric"
   ]
  },
  {
   "cell_type": "code",
   "execution_count": 1047,
   "id": "2d7ba5fa",
   "metadata": {},
   "outputs": [],
   "source": [
    "# we will need to sort the matrice column into a more meanfull order\n",
    "columns_index_order = [0,1,7,2,8,3,4,9,5,10,6]"
   ]
  },
  {
   "cell_type": "code",
   "execution_count": 1049,
   "id": "3375d422",
   "metadata": {},
   "outputs": [
    {
     "data": {
      "text/plain": [
       "array([[48010226.  ,    35000.  ,    35000.  , ...,     7000.  ,      236.97,     1890.59],\n",
       "       [57693261.  ,    30000.  ,    30000.  , ...,    27132.46,      848.86,     4232.39],\n",
       "       [59432726.  ,    15000.  ,    15000.  , ...,     1666.67,       54.98,      218.87],\n",
       "       ...,\n",
       "       [50415990.  ,    10000.  ,    10000.  , ...,     1666.67,      228.83,      364.27],\n",
       "       [46154151.  ,    35000.  ,    10000.  , ...,     2500.  ,       88.58,      799.85],\n",
       "       [66055249.  ,    10000.  ,    10000.  , ...,     9145.8 ,      283.49,      276.11]])"
      ]
     },
     "execution_count": 1049,
     "metadata": {},
     "output_type": "execute_result"
    }
   ],
   "source": [
    "header_numeric = header_numeric[columns_index_order]\n",
    "loan_data_numeric"
   ]
  },
  {
   "cell_type": "code",
   "execution_count": 1050,
   "id": "021e44dc",
   "metadata": {},
   "outputs": [],
   "source": [
    "loan_data_numeric = loan_data_numeric[:,columns_index_order]"
   ]
  },
  {
   "cell_type": "markdown",
   "id": "42e30249",
   "metadata": {},
   "source": [
    "### Interest Rate"
   ]
  },
  {
   "cell_type": "code",
   "execution_count": 1052,
   "id": "10fe71c3",
   "metadata": {},
   "outputs": [
    {
     "data": {
      "text/plain": [
       "array(['id', 'loan_amnt', 'installment_EUR', 'loan_amnt_EUR', 'total_pymnt', 'funded_amnt',\n",
       "       'funded_amnt_EUR', 'total_pymnt_EUR', 'int_rate', 'exchange_rate', 'installment'],\n",
       "      dtype='<U19')"
      ]
     },
     "execution_count": 1052,
     "metadata": {},
     "output_type": "execute_result"
    }
   ],
   "source": [
    "header_numeric"
   ]
  },
  {
   "cell_type": "code",
   "execution_count": 1054,
   "id": "90284401",
   "metadata": {},
   "outputs": [
    {
     "data": {
      "text/plain": [
       "array([13.33, 28.99, 28.99, ..., 28.99, 16.55, 28.99])"
      ]
     },
     "execution_count": 1054,
     "metadata": {},
     "output_type": "execute_result"
    }
   ],
   "source": [
    "# when we check Interest Rate we notice its note between 0 and 1, it must be divided by 100\n",
    "loan_data_numeric[:,5]"
   ]
  },
  {
   "cell_type": "code",
   "execution_count": 1055,
   "id": "f002a5c1",
   "metadata": {},
   "outputs": [],
   "source": [
    "loan_data_numeric[:,5] = loan_data_numeric[:,5]/100"
   ]
  },
  {
   "cell_type": "code",
   "execution_count": 1056,
   "id": "ca6382ea",
   "metadata": {},
   "outputs": [
    {
     "data": {
      "text/plain": [
       "array([0.13, 0.29, 0.29, ..., 0.29, 0.17, 0.29])"
      ]
     },
     "execution_count": 1056,
     "metadata": {},
     "output_type": "execute_result"
    }
   ],
   "source": [
    "loan_data_numeric[:,5]"
   ]
  },
  {
   "cell_type": "markdown",
   "id": "c5769f0c",
   "metadata": {},
   "source": [
    "# Checkpoint : Numeric"
   ]
  },
  {
   "cell_type": "code",
   "execution_count": 1057,
   "id": "e5a3325e",
   "metadata": {},
   "outputs": [],
   "source": [
    "checkpoint_numeric = checkpoint(\"Checkpoint-Numeric\", header_numeric, loan_data_numeric)"
   ]
  },
  {
   "cell_type": "code",
   "execution_count": 1058,
   "id": "83dd138b",
   "metadata": {},
   "outputs": [
    {
     "data": {
      "text/plain": [
       "(array(['id', 'loan_amnt', 'installment_EUR', 'loan_amnt_EUR', 'total_pymnt', 'funded_amnt',\n",
       "        'funded_amnt_EUR', 'total_pymnt_EUR', 'int_rate', 'exchange_rate', 'installment'],\n",
       "       dtype='<U19'),\n",
       " array([[48010226.  ,    35000.  ,     7000.  , ...,     9452.96,     1890.59,        5.  ],\n",
       "        [57693261.  ,    30000.  ,    27132.46, ...,     4679.7 ,     4232.39,        1.11],\n",
       "        [59432726.  ,    15000.  ,     1666.67, ...,     1969.83,      218.87,        9.  ],\n",
       "        ...,\n",
       "        [50415990.  ,    10000.  ,     1666.67, ...,     2185.64,      364.27,        6.  ],\n",
       "        [46154151.  ,    35000.  ,     8750.  , ...,     3199.4 ,      799.85,        4.  ],\n",
       "        [66055249.  ,    10000.  ,     9145.8 , ...,      301.9 ,      276.11,        1.09]]))"
      ]
     },
     "execution_count": 1058,
     "metadata": {},
     "output_type": "execute_result"
    }
   ],
   "source": [
    "checkpoint_numeric['header'], checkpoint_numeric['data']"
   ]
  },
  {
   "cell_type": "markdown",
   "id": "1dc6a29f",
   "metadata": {},
   "source": [
    "# Creating the \"Complete\" Dataset"
   ]
  },
  {
   "cell_type": "code",
   "execution_count": 1059,
   "id": "28dfae59",
   "metadata": {},
   "outputs": [
    {
     "data": {
      "text/plain": [
       "(10000, 6)"
      ]
     },
     "execution_count": 1059,
     "metadata": {},
     "output_type": "execute_result"
    }
   ],
   "source": [
    "checkpoint_strings['data'].shape"
   ]
  },
  {
   "cell_type": "code",
   "execution_count": 1060,
   "id": "40886228",
   "metadata": {},
   "outputs": [
    {
     "data": {
      "text/plain": [
       "(10000, 11)"
      ]
     },
     "execution_count": 1060,
     "metadata": {},
     "output_type": "execute_result"
    }
   ],
   "source": [
    "checkpoint_numeric['data'].shape"
   ]
  },
  {
   "cell_type": "code",
   "execution_count": 1065,
   "id": "be3a6327",
   "metadata": {},
   "outputs": [],
   "source": [
    "# We stack the data string and numeric together \n",
    "loan_data = np.hstack((checkpoint_numeric['data'], checkpoint_strings['data']))"
   ]
  },
  {
   "cell_type": "code",
   "execution_count": 1062,
   "id": "4f042caa",
   "metadata": {},
   "outputs": [
    {
     "data": {
      "text/plain": [
       "array([[48010226.  ,    35000.  ,     7000.  , ...,       13.  ,        1.  ,        1.  ],\n",
       "       [57693261.  ,    30000.  ,    27132.46, ...,        5.  ,        1.  ,        4.  ],\n",
       "       [59432726.  ,    15000.  ,     1666.67, ...,       10.  ,        1.  ,        4.  ],\n",
       "       ...,\n",
       "       [50415990.  ,    10000.  ,     1666.67, ...,        5.  ,        1.  ,        1.  ],\n",
       "       [46154151.  ,    35000.  ,     8750.  , ...,       17.  ,        1.  ,        3.  ],\n",
       "       [66055249.  ,    10000.  ,     9145.8 , ...,        4.  ,        0.  ,        3.  ]])"
      ]
     },
     "execution_count": 1062,
     "metadata": {},
     "output_type": "execute_result"
    }
   ],
   "source": [
    "loan_data"
   ]
  },
  {
   "cell_type": "code",
   "execution_count": 1063,
   "id": "f933c8c1",
   "metadata": {},
   "outputs": [
    {
     "data": {
      "text/plain": [
       "0"
      ]
     },
     "execution_count": 1063,
     "metadata": {},
     "output_type": "execute_result"
    }
   ],
   "source": [
    "np.isnan(loan_data).sum()"
   ]
  },
  {
   "cell_type": "code",
   "execution_count": 1066,
   "id": "f4c594e8",
   "metadata": {},
   "outputs": [],
   "source": [
    "# We stack the header string and numeric together\n",
    "header_full = np.concatenate((checkpoint_numeric['header'], checkpoint_strings['header']))"
   ]
  },
  {
   "cell_type": "markdown",
   "id": "5e7ae237",
   "metadata": {},
   "source": [
    "# Sorting the New Dataset"
   ]
  },
  {
   "cell_type": "code",
   "execution_count": 1069,
   "id": "672943f9",
   "metadata": {},
   "outputs": [
    {
     "data": {
      "text/plain": [
       "array([[  373332.  ,     9950.  ,      995.  , ...,       21.  ,        0.  ,        1.  ],\n",
       "       [  575239.  ,    12000.  ,     1200.  , ...,       25.  ,        1.  ,        2.  ],\n",
       "       [  707689.  ,    10000.  ,     5000.  , ...,       13.  ,        1.  ,        0.  ],\n",
       "       ...,\n",
       "       [68614880.  ,     5600.  ,     5121.65, ...,        8.  ,        1.  ,        1.  ],\n",
       "       [68615915.  ,     4000.  ,     3658.32, ...,       10.  ,        1.  ,        2.  ],\n",
       "       [68616519.  ,    21600.  ,    19754.93, ...,        3.  ,        0.  ,        2.  ]])"
      ]
     },
     "execution_count": 1069,
     "metadata": {},
     "output_type": "execute_result"
    }
   ],
   "source": [
    "loan_data = loan_data[np.argsort(loan_data[:,0])]\n",
    "loan_data"
   ]
  },
  {
   "cell_type": "code",
   "execution_count": 1070,
   "id": "2a02f9c4",
   "metadata": {},
   "outputs": [
    {
     "data": {
      "text/plain": [
       "array([   0,    1,    2, ..., 9997, 9998, 9999], dtype=int64)"
      ]
     },
     "execution_count": 1070,
     "metadata": {},
     "output_type": "execute_result"
    }
   ],
   "source": [
    "np.argsort(loan_data[:,0])"
   ]
  },
  {
   "cell_type": "markdown",
   "id": "c033b6e0",
   "metadata": {},
   "source": [
    "# Storing the New Dataset"
   ]
  },
  {
   "cell_type": "code",
   "execution_count": 1071,
   "id": "8d9a29c6",
   "metadata": {},
   "outputs": [],
   "source": [
    "loan_data = np.vstack((header_full, loan_data))"
   ]
  },
  {
   "cell_type": "code",
   "execution_count": 1073,
   "id": "58a78508",
   "metadata": {},
   "outputs": [],
   "source": [
    "np.savetxt(\"loan-data-preprocessed.csv\", \n",
    "           loan_data, \n",
    "           fmt = '%s',\n",
    "           delimiter = ',')"
   ]
  }
 ],
 "metadata": {
  "kernelspec": {
   "display_name": "Python 3 (ipykernel)",
   "language": "python",
   "name": "python3"
  },
  "language_info": {
   "codemirror_mode": {
    "name": "ipython",
    "version": 3
   },
   "file_extension": ".py",
   "mimetype": "text/x-python",
   "name": "python",
   "nbconvert_exporter": "python",
   "pygments_lexer": "ipython3",
   "version": "3.11.5"
  }
 },
 "nbformat": 4,
 "nbformat_minor": 5
}
